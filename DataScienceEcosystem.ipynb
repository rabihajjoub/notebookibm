{
 "cells": [
  {
   "cell_type": "markdown",
   "id": "8726829d-6b9e-48f4-9913-38fcae274377",
   "metadata": {},
   "source": [
    "# Data Science Tools and Ecosystem"
   ]
  },
  {
   "cell_type": "markdown",
   "id": "3c78b127-b0ee-42ed-a94d-164338e1825e",
   "metadata": {},
   "source": [
    "In this notebook, Data Science Tools and Ecosystem are summarized."
   ]
  },
  {
   "cell_type": "markdown",
   "id": "328cc7eb-e39d-4611-a2ce-4fffd75455f8",
   "metadata": {},
   "source": [
    "**Objectives:** \n",
    "* listing some popular lanuages\n",
    "* listing some librairies\n",
    "* making some aritmetic calculation"
   ]
  },
  {
   "cell_type": "markdown",
   "id": "f575692a-d551-479a-a1f0-0343a541fe57",
   "metadata": {},
   "source": [
    "### Some of the popular languages that Data Scientists use are:\n",
    "1. python\n",
    "2. R\n",
    "3. java-script"
   ]
  },
  {
   "cell_type": "markdown",
   "id": "6af94a92-7ff8-423c-8dea-31ad4e307dc8",
   "metadata": {},
   "source": [
    "### Some of the commonly used libraries used by Data Scientists include\n",
    "1. tidyverse\n",
    "2. ggplot2\n",
    "3. caret"
   ]
  },
  {
   "cell_type": "markdown",
   "id": "07786bdf-3722-44d6-9f39-ef5826bf377d",
   "metadata": {},
   "source": [
    "| Data Science Tools | \n",
    "|--------------------|\n",
    "|     python         | \n",
    "|        R           |\n",
    "|      appache       |\n",
    "|      tableau       |\n",
    "\n"
   ]
  },
  {
   "cell_type": "markdown",
   "id": "afe52cee-a1f3-4e43-915b-3e27f2f67c86",
   "metadata": {},
   "source": [
    "### Below are a few examples of evaluating arithmetic expressions in Python"
   ]
  },
  {
   "cell_type": "code",
   "execution_count": 25,
   "id": "2bfe1d9c-853b-42af-92fb-063f3457b12b",
   "metadata": {
    "scrolled": true
   },
   "outputs": [
    {
     "data": {
      "text/plain": [
       "17"
      ]
     },
     "execution_count": 25,
     "metadata": {},
     "output_type": "execute_result"
    }
   ],
   "source": [
    "(3*4)+5 #This a simple arithmetic expression to mutiply then add integers"
   ]
  },
  {
   "cell_type": "code",
   "execution_count": 43,
   "id": "16b36749-6b84-4693-9783-ddc38c8a93b7",
   "metadata": {},
   "outputs": [
    {
     "name": "stdout",
     "output_type": "stream",
     "text": [
      "3.3333333333333335\n"
     ]
    }
   ],
   "source": [
    "mins=200;\n",
    "hours=mins/60\n",
    "print(hours) #This will convert 200 minutes to hours by diving by 60"
   ]
  },
  {
   "cell_type": "markdown",
   "id": "5226b4ab-55c8-47d7-bb1e-9ca1d5b3e131",
   "metadata": {},
   "source": [
    "## Author: \n",
    "Rabih Ajjoub"
   ]
  },
  {
   "cell_type": "code",
   "execution_count": null,
   "id": "b561d45a-31fb-4d10-816c-b060e568ebfd",
   "metadata": {},
   "outputs": [],
   "source": []
  }
 ],
 "metadata": {
  "kernelspec": {
   "display_name": "Python [conda env:base] *",
   "language": "python",
   "name": "conda-base-py"
  },
  "language_info": {
   "codemirror_mode": {
    "name": "ipython",
    "version": 3
   },
   "file_extension": ".py",
   "mimetype": "text/x-python",
   "name": "python",
   "nbconvert_exporter": "python",
   "pygments_lexer": "ipython3",
   "version": "3.12.7"
  }
 },
 "nbformat": 4,
 "nbformat_minor": 5
}
